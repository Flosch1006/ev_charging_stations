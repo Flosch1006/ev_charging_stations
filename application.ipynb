{
 "cells": [
  {
   "cell_type": "markdown",
   "metadata": {
    "pycharm": {
     "name": "#%% md\n"
    }
   },
   "source": [
    "# 1. Data Load"
   ]
  },
  {
   "cell_type": "code",
   "execution_count": 1,
   "metadata": {
    "pycharm": {
     "name": "#%%\n"
    }
   },
   "outputs": [],
   "source": [
    "# load required packages\n",
    "import pandas as pd\n",
    "import matplotlib"
   ]
  },
  {
   "cell_type": "markdown",
   "metadata": {
    "pycharm": {
     "name": "#%% md\n"
    }
   },
   "source": [
    "## 1.1 Charging Stations"
   ]
  },
  {
   "cell_type": "code",
   "execution_count": 115,
   "metadata": {
    "pycharm": {
     "name": "#%%\n"
    }
   },
   "outputs": [],
   "source": [
    "# load charging station data from opendata portal of Rhein-Kreis-Neuss found via govdata.de\n",
    "# skip bad lines\n",
    "stations_raw = pd.read_csv(\"https://opendata.rhein-kreis-neuss.de/explore/dataset/rhein-kreis-neuss-ladesaulen-in-deutschland/download/?format=csv\",\n",
    "                       on_bad_lines = \"skip\",\n",
    "                       sep = \";\")"
   ]
  },
  {
   "cell_type": "markdown",
   "metadata": {
    "pycharm": {
     "name": "#%% md\n"
    }
   },
   "source": [
    "## 1.2 Registered Vehicles"
   ]
  },
  {
   "cell_type": "code",
   "execution_count": 116,
   "metadata": {
    "pycharm": {
     "name": "#%%\n"
    }
   },
   "outputs": [],
   "source": [
    "# load vehicle registration data from opendata portal from Kraftfahrtbundesamt\n",
    "vehicles_raw = pd.read_excel(\"https://www.kba.de/SharedDocs/Downloads/DE/Statistik/Fahrzeuge/FZ3/fz3_2022.xlsx?__blob=publicationFile&v=3\", sheet_name = \"FZ 3.1\")"
   ]
  },
  {
   "cell_type": "markdown",
   "metadata": {
    "pycharm": {
     "name": "#%% md\n"
    }
   },
   "source": [
    "# 2. Data Cleaning"
   ]
  },
  {
   "cell_type": "code",
   "execution_count": null,
   "metadata": {
    "pycharm": {
     "is_executing": true,
     "name": "#%%\n"
    }
   },
   "outputs": [],
   "source": []
  },
  {
   "cell_type": "markdown",
   "metadata": {
    "pycharm": {
     "name": "#%% md\n"
    }
   },
   "source": [
    "## 2.1Charging Stations"
   ]
  },
  {
   "cell_type": "code",
   "execution_count": 117,
   "metadata": {
    "pycharm": {
     "name": "#%%\n"
    }
   },
   "outputs": [],
   "source": [
    "# copy raw data to working df\n",
    "stations = stations_raw.copy()\n",
    "\n",
    "# replace column names with english names\n",
    "stations.columns = [\"owner\",\n",
    "                    \"count\",\n",
    "                    \"connected_load\",\n",
    "                    \"connector_1\",\n",
    "                    \"connector_2\",\n",
    "                    \"connector_3\",\n",
    "                    \"connector_4\",\n",
    "                    \"p1\",\n",
    "                    \"p2\",\n",
    "                    \"p3\",\n",
    "                    \"p4\",\n",
    "                    \"district\",\n",
    "                    \"municipality\",\n",
    "                    \"zip\",\n",
    "                    \"street_name\",\n",
    "                    \"street_number\",\n",
    "                    \"additional_address\",\n",
    "                    \"installation_date\",\n",
    "                    \"coordinates\",\n",
    "                    \"type\"]\n",
    "\n",
    "# split coordinates into separate columns\n",
    "stations[[\"latitude\", \"longitude\"]] = stations.coordinates.str.split(\",\", expand = True)\n",
    "\n",
    "# remove coordinates column\n",
    "stations = stations.drop(\"coordinates\", axis = 1)"
   ]
  },
  {
   "cell_type": "markdown",
   "metadata": {
    "pycharm": {
     "name": "#%% md\n"
    }
   },
   "source": [
    "## 2.2 Registered Vehicles"
   ]
  },
  {
   "cell_type": "code",
   "execution_count": 137,
   "metadata": {
    "pycharm": {
     "name": "#%%\n"
    }
   },
   "outputs": [
    {
     "data": {
      "text/html": [
       "<div>\n",
       "<style scoped>\n",
       "    .dataframe tbody tr th:only-of-type {\n",
       "        vertical-align: middle;\n",
       "    }\n",
       "\n",
       "    .dataframe tbody tr th {\n",
       "        vertical-align: top;\n",
       "    }\n",
       "\n",
       "    .dataframe thead th {\n",
       "        text-align: right;\n",
       "    }\n",
       "</style>\n",
       "<table border=\"1\" class=\"dataframe\">\n",
       "  <thead>\n",
       "    <tr style=\"text-align: right;\">\n",
       "      <th></th>\n",
       "      <th>state</th>\n",
       "      <th>district_id</th>\n",
       "      <th>district</th>\n",
       "      <th>zip</th>\n",
       "      <th>municipality</th>\n",
       "      <th>motorcycles</th>\n",
       "      <th>cars_total</th>\n",
       "      <th>cars_business</th>\n",
       "      <th>trucks</th>\n",
       "      <th>tractors_total</th>\n",
       "      <th>tractors_agri_forest</th>\n",
       "      <th>other_vehicles_buses</th>\n",
       "      <th>vehicles_total</th>\n",
       "      <th>trailers</th>\n",
       "    </tr>\n",
       "  </thead>\n",
       "  <tbody>\n",
       "    <tr>\n",
       "      <th>0</th>\n",
       "      <td>BADEN-WÜRTTEMBERG</td>\n",
       "      <td>08111</td>\n",
       "      <td>STUTTGART,STADT</td>\n",
       "      <td>70173</td>\n",
       "      <td>STUTTGART,LANDESHAUPTSTADT</td>\n",
       "      <td>26692</td>\n",
       "      <td>302792</td>\n",
       "      <td>76738</td>\n",
       "      <td>17458</td>\n",
       "      <td>2841</td>\n",
       "      <td>1726</td>\n",
       "      <td>2341</td>\n",
       "      <td>352124</td>\n",
       "      <td>19214</td>\n",
       "    </tr>\n",
       "    <tr>\n",
       "      <th>1</th>\n",
       "      <td>BADEN-WÜRTTEMBERG</td>\n",
       "      <td>08115</td>\n",
       "      <td>BOEBLINGEN</td>\n",
       "      <td>71134</td>\n",
       "      <td>AIDLINGEN</td>\n",
       "      <td>722</td>\n",
       "      <td>6196</td>\n",
       "      <td>311</td>\n",
       "      <td>232</td>\n",
       "      <td>287</td>\n",
       "      <td>192</td>\n",
       "      <td>16</td>\n",
       "      <td>7453</td>\n",
       "      <td>1076</td>\n",
       "    </tr>\n",
       "    <tr>\n",
       "      <th>2</th>\n",
       "      <td>BADEN-WÜRTTEMBERG</td>\n",
       "      <td>08115</td>\n",
       "      <td>BOEBLINGEN</td>\n",
       "      <td>71155</td>\n",
       "      <td>ALTDORF</td>\n",
       "      <td>333</td>\n",
       "      <td>2952</td>\n",
       "      <td>117</td>\n",
       "      <td>0</td>\n",
       "      <td>151</td>\n",
       "      <td>91</td>\n",
       "      <td>0</td>\n",
       "      <td>3557</td>\n",
       "      <td>388</td>\n",
       "    </tr>\n",
       "    <tr>\n",
       "      <th>3</th>\n",
       "      <td>BADEN-WÜRTTEMBERG</td>\n",
       "      <td>08115</td>\n",
       "      <td>BOEBLINGEN</td>\n",
       "      <td>71032</td>\n",
       "      <td>BOEBLINGEN,ST.</td>\n",
       "      <td>2565</td>\n",
       "      <td>31420</td>\n",
       "      <td>5515</td>\n",
       "      <td>1240</td>\n",
       "      <td>291</td>\n",
       "      <td>191</td>\n",
       "      <td>263</td>\n",
       "      <td>35779</td>\n",
       "      <td>2304</td>\n",
       "    </tr>\n",
       "    <tr>\n",
       "      <th>4</th>\n",
       "      <td>BADEN-WÜRTTEMBERG</td>\n",
       "      <td>08115</td>\n",
       "      <td>BOEBLINGEN</td>\n",
       "      <td>71149</td>\n",
       "      <td>BONDORF</td>\n",
       "      <td>449</td>\n",
       "      <td>3750</td>\n",
       "      <td>184</td>\n",
       "      <td>238</td>\n",
       "      <td>324</td>\n",
       "      <td>213</td>\n",
       "      <td>14</td>\n",
       "      <td>4775</td>\n",
       "      <td>699</td>\n",
       "    </tr>\n",
       "    <tr>\n",
       "      <th>...</th>\n",
       "      <td>...</td>\n",
       "      <td>...</td>\n",
       "      <td>...</td>\n",
       "      <td>...</td>\n",
       "      <td>...</td>\n",
       "      <td>...</td>\n",
       "      <td>...</td>\n",
       "      <td>...</td>\n",
       "      <td>...</td>\n",
       "      <td>...</td>\n",
       "      <td>...</td>\n",
       "      <td>...</td>\n",
       "      <td>...</td>\n",
       "      <td>...</td>\n",
       "    </tr>\n",
       "    <tr>\n",
       "      <th>10783</th>\n",
       "      <td>THÜRINGEN</td>\n",
       "      <td>16077</td>\n",
       "      <td>ALTENBURGER LAND</td>\n",
       "      <td>04617</td>\n",
       "      <td>STARKENBERG</td>\n",
       "      <td>142</td>\n",
       "      <td>1304</td>\n",
       "      <td>68</td>\n",
       "      <td>142</td>\n",
       "      <td>99</td>\n",
       "      <td>85</td>\n",
       "      <td>20</td>\n",
       "      <td>1707</td>\n",
       "      <td>396</td>\n",
       "    </tr>\n",
       "    <tr>\n",
       "      <th>10784</th>\n",
       "      <td>THÜRINGEN</td>\n",
       "      <td>16077</td>\n",
       "      <td>ALTENBURGER LAND</td>\n",
       "      <td>04626</td>\n",
       "      <td>THONHAUSEN</td>\n",
       "      <td>0</td>\n",
       "      <td>354</td>\n",
       "      <td>30</td>\n",
       "      <td>88</td>\n",
       "      <td>60</td>\n",
       "      <td>56</td>\n",
       "      <td>0</td>\n",
       "      <td>556</td>\n",
       "      <td>160</td>\n",
       "    </tr>\n",
       "    <tr>\n",
       "      <th>10785</th>\n",
       "      <td>THÜRINGEN</td>\n",
       "      <td>16077</td>\n",
       "      <td>ALTENBURGER LAND</td>\n",
       "      <td>04617</td>\n",
       "      <td>TREBEN</td>\n",
       "      <td>99</td>\n",
       "      <td>706</td>\n",
       "      <td>34</td>\n",
       "      <td>84</td>\n",
       "      <td>0</td>\n",
       "      <td>0</td>\n",
       "      <td>0</td>\n",
       "      <td>923</td>\n",
       "      <td>207</td>\n",
       "    </tr>\n",
       "    <tr>\n",
       "      <th>10786</th>\n",
       "      <td>THÜRINGEN</td>\n",
       "      <td>16077</td>\n",
       "      <td>ALTENBURGER LAND</td>\n",
       "      <td>04626</td>\n",
       "      <td>VOLLMERSHAIN</td>\n",
       "      <td>32</td>\n",
       "      <td>211</td>\n",
       "      <td>4</td>\n",
       "      <td>0</td>\n",
       "      <td>16</td>\n",
       "      <td>16</td>\n",
       "      <td>0</td>\n",
       "      <td>276</td>\n",
       "      <td>68</td>\n",
       "    </tr>\n",
       "    <tr>\n",
       "      <th>10787</th>\n",
       "      <td>THÜRINGEN</td>\n",
       "      <td>16077</td>\n",
       "      <td>ALTENBURGER LAND</td>\n",
       "      <td>04603</td>\n",
       "      <td>WINDISCHLEUBA</td>\n",
       "      <td>177</td>\n",
       "      <td>1409</td>\n",
       "      <td>157</td>\n",
       "      <td>220</td>\n",
       "      <td>79</td>\n",
       "      <td>44</td>\n",
       "      <td>55</td>\n",
       "      <td>1940</td>\n",
       "      <td>363</td>\n",
       "    </tr>\n",
       "  </tbody>\n",
       "</table>\n",
       "<p>10788 rows × 14 columns</p>\n",
       "</div>"
      ],
      "text/plain": [
       "                   state district_id          district    zip  \\\n",
       "0      BADEN-WÜRTTEMBERG       08111   STUTTGART,STADT  70173   \n",
       "1      BADEN-WÜRTTEMBERG       08115        BOEBLINGEN  71134   \n",
       "2      BADEN-WÜRTTEMBERG       08115        BOEBLINGEN  71155   \n",
       "3      BADEN-WÜRTTEMBERG       08115        BOEBLINGEN  71032   \n",
       "4      BADEN-WÜRTTEMBERG       08115        BOEBLINGEN  71149   \n",
       "...                  ...         ...               ...    ...   \n",
       "10783          THÜRINGEN       16077  ALTENBURGER LAND  04617   \n",
       "10784          THÜRINGEN       16077  ALTENBURGER LAND  04626   \n",
       "10785          THÜRINGEN       16077  ALTENBURGER LAND  04617   \n",
       "10786          THÜRINGEN       16077  ALTENBURGER LAND  04626   \n",
       "10787          THÜRINGEN       16077  ALTENBURGER LAND  04603   \n",
       "\n",
       "                     municipality  motorcycles  cars_total  cars_business  \\\n",
       "0      STUTTGART,LANDESHAUPTSTADT        26692      302792          76738   \n",
       "1                       AIDLINGEN          722        6196            311   \n",
       "2                         ALTDORF          333        2952            117   \n",
       "3                  BOEBLINGEN,ST.         2565       31420           5515   \n",
       "4                         BONDORF          449        3750            184   \n",
       "...                           ...          ...         ...            ...   \n",
       "10783                 STARKENBERG          142        1304             68   \n",
       "10784                  THONHAUSEN            0         354             30   \n",
       "10785                      TREBEN           99         706             34   \n",
       "10786                VOLLMERSHAIN           32         211              4   \n",
       "10787               WINDISCHLEUBA          177        1409            157   \n",
       "\n",
       "       trucks  tractors_total  tractors_agri_forest  other_vehicles_buses  \\\n",
       "0       17458            2841                  1726                  2341   \n",
       "1         232             287                   192                    16   \n",
       "2           0             151                    91                     0   \n",
       "3        1240             291                   191                   263   \n",
       "4         238             324                   213                    14   \n",
       "...       ...             ...                   ...                   ...   \n",
       "10783     142              99                    85                    20   \n",
       "10784      88              60                    56                     0   \n",
       "10785      84               0                     0                     0   \n",
       "10786       0              16                    16                     0   \n",
       "10787     220              79                    44                    55   \n",
       "\n",
       "       vehicles_total  trailers  \n",
       "0              352124     19214  \n",
       "1                7453      1076  \n",
       "2                3557       388  \n",
       "3               35779      2304  \n",
       "4                4775       699  \n",
       "...               ...       ...  \n",
       "10783            1707       396  \n",
       "10784             556       160  \n",
       "10785             923       207  \n",
       "10786             276        68  \n",
       "10787            1940       363  \n",
       "\n",
       "[10788 rows x 14 columns]"
      ]
     },
     "execution_count": 137,
     "metadata": {},
     "output_type": "execute_result"
    }
   ],
   "source": [
    "# copy raw data to working df\n",
    "vehicles = vehicles_raw.copy()\n",
    "\n",
    "# remove empty first column\n",
    "vehicles.drop(vehicles.columns[0], axis = 1, inplace = True)\n",
    "\n",
    "# drop first rows containing no usable data\n",
    "vehicles.drop(vehicles.index[0:8], axis = 0, inplace = True)\n",
    "\n",
    "# drop last rows containing no usable data\n",
    "vehicles.drop([11209, 11210, 11211, 11212, 11213, 11214, 11215 ,11216, 11217, 11218, 11219],\n",
    "              axis = \"index\",\n",
    "              inplace = True)\n",
    "\n",
    "# reset index\n",
    "vehicles.reset_index(drop = True, inplace = True)\n",
    "\n",
    "# assign proper column names\n",
    "vehicles.columns = [\"state\",\n",
    "                    \"district_raw\",\n",
    "                    \"municipality_raw\",\n",
    "                    \"motorcycles\",\n",
    "                    \"cars_total\",\n",
    "                    \"cars_business\",\n",
    "                    \"trucks\",\n",
    "                    \"tractors_total\",\n",
    "                    \"tractors_agri_forest\",\n",
    "                    \"other_vehicles_buses\",\n",
    "                    \"vehicles_total\",\n",
    "                    \"trailers\"]\n",
    "\n",
    "\n",
    "# fill NaN values\n",
    "# replace in these columns\n",
    "for column in [\"state\", \"district_raw\"]:\n",
    "    # loop through all the rows\n",
    "    for row in range(0,len(vehicles)):\n",
    "        # check if value is NaN\n",
    "        if vehicles.iloc[row][column] != vehicles.iloc[row][column]:\n",
    "            # replace with value from previous row if NaN\n",
    "            vehicles.iloc[row][column] = vehicles.iloc[row-1][column]\n",
    "\n",
    "# remove summary rows\n",
    "# create list to store row indexes to be dropped\n",
    "drop = []\n",
    "\n",
    "# search in municipality column\n",
    "column = \"municipality_raw\"\n",
    "\n",
    "# loop through all the rows\n",
    "for row in range(0, len(vehicles)):\n",
    "    # check if row is summary row\n",
    "    if vehicles.iloc[row][column] == \"ZUSAMMEN\":\n",
    "        # append to list to be dropped later\n",
    "        drop.append(row)\n",
    "\n",
    "# search in state column\n",
    "column = \"state\"\n",
    "# loop through all the rows\n",
    "for row in range(0, len(vehicles)):\n",
    "    # check if row is summary row\n",
    "    if \"INSGESAMT\" in vehicles.iloc[row][column]:\n",
    "        # append to list to be dropped later\n",
    "        drop.append(row)\n",
    "\n",
    "# iterate through droppable list and execute drop\n",
    "for row in drop:\n",
    "    vehicles.drop([row], axis = \"index\", inplace = True)\n",
    "\n",
    "# reset index\n",
    "vehicles.reset_index(drop = True, inplace = True)\n",
    "\n",
    "# extract district id\n",
    "vehicles[\"district_id\"] = vehicles[\"district_raw\"].str[-8:].str[2:7]\n",
    "\n",
    "#extract district name\n",
    "vehicles[\"district\"] = vehicles[\"district_raw\"].str[:-8]\n",
    "\n",
    "# extract zip code from municipality\n",
    "vehicles[\"zip\"] = vehicles[\"municipality_raw\"].str[0:5]\n",
    "\n",
    "#extract name code from municipality\n",
    "vehicles[\"municipality\"] = vehicles[\"municipality_raw\"].str[7:]\n",
    "\n",
    "# drop municipality_raw and district_raw\n",
    "vehicles.drop([\"municipality_raw\", \"district_raw\"], axis = 1, inplace = True)\n",
    "\n",
    "# reorder columns\n",
    "vehicles = vehicles[[\"state\",\n",
    "                     \"district_id\",\n",
    "                     \"district\",\n",
    "                     \"zip\",\n",
    "                     \"municipality\",\n",
    "                     \"motorcycles\",\n",
    "                     \"cars_total\",\n",
    "                     \"cars_business\",\n",
    "                     \"trucks\",\n",
    "                     \"tractors_total\",\n",
    "                     \"tractors_agri_forest\",\n",
    "                     \"other_vehicles_buses\",\n",
    "                     \"vehicles_total\",\n",
    "                     \"trailers\"]]\n",
    "\n",
    "# replace \".\" & \"-\" value with 0\n",
    "# execute replace in following columns\n",
    "for column in [\"motorcycles\",\n",
    "               \"cars_total\",\n",
    "                \"cars_business\",\n",
    "                \"trucks\",\n",
    "                \"tractors_total\",\n",
    "                \"tractors_agri_forest\",\n",
    "                \"other_vehicles_buses\",\n",
    "                \"vehicles_total\",\n",
    "                \"trailers\"]:\n",
    "    vehicles.loc[vehicles[column] == \".\", column] = 0\n",
    "    vehicles.loc[vehicles[column] == \"-\", column] = 0\n",
    "\n",
    "# assign correct column types\n",
    "vehicles = vehicles.astype({\"state\": str,\n",
    "                            \"district_id\": str,\n",
    "                            \"district\": str,\n",
    "                            \"zip\": str,\n",
    "                            \"municipality\": str,\n",
    "                            \"motorcycles\": int,\n",
    "                            \"cars_total\": int,\n",
    "                            \"cars_business\": int,\n",
    "                            \"trucks\": int,\n",
    "                            \"tractors_total\": int,\n",
    "                            \"tractors_agri_forest\": int,\n",
    "                            \"other_vehicles_buses\": int,\n",
    "                            \"vehicles_total\": int,\n",
    "                            \"trailers\": int})\n",
    "\n",
    "# show data\n",
    "vehicles"
   ]
  },
  {
   "cell_type": "markdown",
   "metadata": {
    "pycharm": {
     "name": "#%% md\n"
    }
   },
   "source": [
    "# 3. Data Merge"
   ]
  },
  {
   "cell_type": "code",
   "execution_count": null,
   "metadata": {
    "pycharm": {
     "is_executing": true,
     "name": "#%%\n"
    }
   },
   "outputs": [],
   "source": []
  },
  {
   "cell_type": "markdown",
   "metadata": {
    "pycharm": {
     "name": "#%% md\n"
    }
   },
   "source": [
    "# 4. KPI Computation"
   ]
  },
  {
   "cell_type": "code",
   "execution_count": null,
   "metadata": {
    "pycharm": {
     "is_executing": true,
     "name": "#%%\n"
    }
   },
   "outputs": [],
   "source": []
  },
  {
   "cell_type": "markdown",
   "metadata": {
    "pycharm": {
     "name": "#%% md\n"
    }
   },
   "source": [
    "# 5. Visualization"
   ]
  },
  {
   "cell_type": "code",
   "execution_count": null,
   "metadata": {
    "pycharm": {
     "is_executing": true,
     "name": "#%%\n"
    }
   },
   "outputs": [],
   "source": []
  },
  {
   "cell_type": "markdown",
   "metadata": {
    "pycharm": {
     "name": "#%% md\n"
    }
   },
   "source": [
    "## 5.1 Visualization Preparation"
   ]
  },
  {
   "cell_type": "code",
   "execution_count": null,
   "metadata": {
    "pycharm": {
     "is_executing": true,
     "name": "#%%\n"
    }
   },
   "outputs": [],
   "source": []
  },
  {
   "cell_type": "markdown",
   "metadata": {
    "pycharm": {
     "name": "#%% md\n"
    }
   },
   "source": [
    "## 5.2 Visualization Creation"
   ]
  },
  {
   "cell_type": "code",
   "execution_count": null,
   "metadata": {
    "pycharm": {
     "is_executing": true,
     "name": "#%%\n"
    }
   },
   "outputs": [],
   "source": []
  }
 ],
 "metadata": {
  "kernelspec": {
   "display_name": "Python 3.10.4 64-bit",
   "language": "python",
   "name": "python3"
  },
  "language_info": {
   "name": "python",
   "version": "3.10.4"
  },
  "orig_nbformat": 4,
  "vscode": {
   "interpreter": {
    "hash": "9e8942728792b4f803710fcef6ec9d08fd61899a3575dab23084978499f50197"
   }
  }
 },
 "nbformat": 4,
 "nbformat_minor": 2
}
