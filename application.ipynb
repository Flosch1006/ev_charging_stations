{
 "cells": [
  {
   "cell_type": "markdown",
   "metadata": {
    "pycharm": {
     "name": "#%% md\n"
    }
   },
   "source": [
    "# 1. Data Load"
   ]
  },
  {
   "cell_type": "code",
   "execution_count": null,
   "outputs": [],
   "source": [
    "import pandas as pd\n",
    "import geopandas as gpd\n",
    "import matplotlib.pyplot as plt"
   ],
   "metadata": {
    "collapsed": false,
    "pycharm": {
     "name": "#%%\n"
    }
   }
  },
  {
   "cell_type": "markdown",
   "source": [
    "## 1.1 Charging Stations"
   ],
   "metadata": {
    "collapsed": false,
    "pycharm": {
     "name": "#%% md\n"
    }
   }
  },
  {
   "cell_type": "code",
   "execution_count": null,
   "outputs": [],
   "source": [
    "# load charging station data from opendata portal of Rhein-Kreis-Neuss found via govdata.de\n",
    "stations_raw = pd.read_csv(\"https://opendata.rhein-kreis-neuss.de/explore/dataset/rhein-kreis-neuss-ladesaulen-in-deutschland/download/?format=csv\",\n",
    "                           dtype = {\"betreiber\": str,\n",
    "                                    \"anzahl_ladepunkte\": int,\n",
    "                                    \"anschlussleistung\": float,\n",
    "                                    \"steckertypen1\": str,\n",
    "                                    \"steckertypen2\": str,\n",
    "                                    \"steckertypen3\": str,\n",
    "                                    \"steckertypen4\": str,\n",
    "                                    \"p1_kw\": float,\n",
    "                                    \"p2_kw\": float,\n",
    "                                    \"p3_kw\": float,\n",
    "                                    \"p4_kw\": float,\n",
    "                                    \"kreis_kreisfreie_stadt\": str,\n",
    "                                    \"ort\": str,\n",
    "                                    \"postleitzahl\": str,\n",
    "                                    \"strasse\": str,\n",
    "                                    \"hausnummer\": str,\n",
    "                                    \"adresszusatz\": str,\n",
    "                                    \"koordinaten\": str,\n",
    "                                    \"normalladeeinrichtung\": str},\n",
    "                           # skip bad lines\n",
    "                           on_bad_lines = \"skip\",\n",
    "                           sep = \";\",\n",
    "                           parse_dates = [\"inbetriebnahmedatum\"])"
   ],
   "metadata": {
    "collapsed": false,
    "pycharm": {
     "name": "#%%\n"
    }
   }
  },
  {
   "cell_type": "markdown",
   "source": [
    "## 1.2 Registered Vehicles"
   ],
   "metadata": {
    "collapsed": false,
    "pycharm": {
     "name": "#%% md\n"
    }
   }
  },
  {
   "cell_type": "code",
   "execution_count": null,
   "outputs": [],
   "source": [
    "# load vehicle registration data from opendata portal from Kraftfahrtbundesamt\n",
    "vehicles_raw = pd.read_excel(\"https://www.kba.de/SharedDocs/Downloads/DE/Statistik/Fahrzeuge/FZ3/fz3_2022.xlsx?__blob=publicationFile&v=3\", sheet_name = \"FZ 3.1\")"
   ],
   "metadata": {
    "collapsed": false,
    "pycharm": {
     "name": "#%%\n"
    }
   }
  },
  {
   "cell_type": "markdown",
   "source": [
    "## 1.3 Mapping Data: PLZ to Administrative Region"
   ],
   "metadata": {
    "collapsed": false,
    "pycharm": {
     "name": "#%% md\n"
    }
   }
  },
  {
   "cell_type": "code",
   "execution_count": null,
   "outputs": [],
   "source": [
    "# load mapping data linking PLZ and Administrative Region\n",
    "mapping_raw = pd.read_csv(\"https://downloads.suche-postleitzahl.org/v2/public/zuordnung_plz_ort.csv\",\n",
    "                          sep = \",\",\n",
    "                          dtype = {\"osm_id\": str,\n",
    "                                   \"ags\": str,\n",
    "                                   \"ort\": str,\n",
    "                                   \"plz\": str,\n",
    "                                   \"landkreis\": str,\n",
    "                                   \"bundesland\": str})"
   ],
   "metadata": {
    "collapsed": false,
    "pycharm": {
     "name": "#%%\n"
    }
   }
  },
  {
   "cell_type": "markdown",
   "source": [
    "## 1.4 Second-level Administrative Divisions, Germany, 2015"
   ],
   "metadata": {
    "collapsed": false,
    "pycharm": {
     "name": "#%% md\n"
    }
   }
  },
  {
   "cell_type": "code",
   "execution_count": null,
   "outputs": [],
   "source": [
    "# read geojson file containing district shapes\n",
    "districts = gpd.read_file(\"https://geodata.lib.berkeley.edu/download/file/stanford-nz271ny2119-geojson.json\")"
   ],
   "metadata": {
    "collapsed": false,
    "pycharm": {
     "name": "#%%\n"
    }
   }
  },
  {
   "cell_type": "markdown",
   "source": [
    "# 2. Data Cleaning"
   ],
   "metadata": {
    "collapsed": false,
    "pycharm": {
     "name": "#%% md\n"
    }
   }
  },
  {
   "cell_type": "markdown",
   "source": [
    "This chapter outlines the steps taken in order to bring the raw data into a usable format given the context of the application"
   ],
   "metadata": {
    "collapsed": false,
    "pycharm": {
     "name": "#%% md\n"
    }
   }
  },
  {
   "cell_type": "markdown",
   "source": [
    "## 2.1Charging Stations"
   ],
   "metadata": {
    "collapsed": false,
    "pycharm": {
     "name": "#%% md\n"
    }
   }
  },
  {
   "cell_type": "code",
   "execution_count": null,
   "outputs": [],
   "source": [
    "# copy raw data to working df\n",
    "stations = stations_raw.copy()\n",
    "\n",
    "# replace column names with english names\n",
    "stations.columns = [\"owner\",\n",
    "                    \"count\",\n",
    "                    \"connected_load\",\n",
    "                    \"connector_1\",\n",
    "                    \"connector_2\",\n",
    "                    \"connector_3\",\n",
    "                    \"connector_4\",\n",
    "                    \"p1\",\n",
    "                    \"p2\",\n",
    "                    \"p3\",\n",
    "                    \"p4\",\n",
    "                    \"district\",\n",
    "                    \"municipality\",\n",
    "                    \"zip\",\n",
    "                    \"street_name\",\n",
    "                    \"street_number\",\n",
    "                    \"additional_address\",\n",
    "                    \"installation_date\",\n",
    "                    \"coordinates\",\n",
    "                    \"type\"]\n",
    "\n",
    "# drop irrelevant columns\n",
    "stations = stations.drop([\"owner\", \"connected_load\", \"connector_1\", \"connector_2\", \"connector_3\", \"connector_4\", \"p1\", \"p2\", \"p3\", \"p4\", \"district\", \"additional_address\", \"coordinates\"], axis = 1)\n",
    "\n",
    "# summarise data into stations_summary\n",
    "stations_summary = stations.groupby(\"zip\").agg({\"count\": \"sum\"})\n",
    "\n",
    "# convert index to column\n",
    "stations_summary[\"zip\"] = stations_summary.index\n",
    "\n",
    "# rename and reset index\n",
    "stations_summary.index.names = [\"index\"]\n",
    "stations_summary = stations_summary.reset_index(drop = True)"
   ],
   "metadata": {
    "collapsed": false,
    "pycharm": {
     "name": "#%%\n"
    }
   }
  },
  {
   "cell_type": "markdown",
   "source": [
    "## 2.2 Registered Vehicles"
   ],
   "metadata": {
    "collapsed": false,
    "pycharm": {
     "name": "#%% md\n"
    }
   }
  },
  {
   "cell_type": "code",
   "execution_count": null,
   "outputs": [],
   "source": [
    "# copy raw data to working df\n",
    "vehicles = vehicles_raw.copy()\n",
    "\n",
    "# remove empty first column\n",
    "vehicles.drop(vehicles.columns[0], axis = 1, inplace = True)\n",
    "\n",
    "# drop first rows containing no usable data\n",
    "vehicles.drop(vehicles.index[0:8], axis = 0, inplace = True)\n",
    "\n",
    "# drop last rows containing no usable data\n",
    "vehicles.drop([11209, 11210, 11211, 11212, 11213, 11214, 11215 ,11216, 11217, 11218, 11219],\n",
    "              axis = \"index\",\n",
    "              inplace = True)\n",
    "\n",
    "# reset index\n",
    "vehicles.reset_index(drop = True, inplace = True)\n",
    "\n",
    "# assign proper english column names\n",
    "vehicles.columns = [\"state\",\n",
    "                    \"district_raw\",\n",
    "                    \"municipality\",\n",
    "                    \"motorcycles\",\n",
    "                    \"cars_total\",\n",
    "                    \"cars_business\",\n",
    "                    \"trucks\",\n",
    "                    \"tractors_total\",\n",
    "                    \"tractors_agri_forest\",\n",
    "                    \"other_vehicles_buses\",\n",
    "                    \"vehicles_total\",\n",
    "                    \"trailers\"]\n",
    "\n",
    "# drop irrelevant columns\n",
    "vehicles.drop([\"motorcycles\",\n",
    "               \"cars_business\",\n",
    "               \"trucks\",\n",
    "               \"tractors_total\",\n",
    "               \"tractors_agri_forest\",\n",
    "               \"other_vehicles_buses\",\n",
    "               \"vehicles_total\",\n",
    "               \"trailers\" ],\n",
    "              axis = 1,\n",
    "              inplace = True)\n",
    "\n",
    "# fill NaN values\n",
    "# replace in these columns\n",
    "for column in [\"state\", \"district_raw\"]:\n",
    "    # loop through all the rows\n",
    "    for row in range(0,len(vehicles)):\n",
    "        # check if value is NaN\n",
    "        if vehicles.iloc[row][column] != vehicles.iloc[row][column]:\n",
    "            # replace with value from previous row if NaN\n",
    "            vehicles.iloc[row][column] = vehicles.iloc[row-1][column]\n",
    "\n",
    "# remove summary rows\n",
    "# create list to store row indexes to be dropped\n",
    "drop = []\n",
    "\n",
    "# define column to be searched\n",
    "column = \"municipality\"\n",
    "\n",
    "# loop through all the rows and append row index do drop list\n",
    "for row in range(0, len(vehicles)):\n",
    "    # check if row is summary row\n",
    "    if vehicles.iloc[row][column] == \"ZUSAMMEN\":\n",
    "        # append to list to be dropped later\n",
    "        drop.append(row)\n",
    "\n",
    "# define column to be searched\n",
    "column = \"state\"\n",
    "\n",
    "# loop through all the rows and append row index do drop list\n",
    "for row in range(0, len(vehicles)):\n",
    "    # check if row is summary row\n",
    "    if \"INSGESAMT\" in vehicles.iloc[row][column]:\n",
    "        # append to list to be dropped later\n",
    "        drop.append(row)\n",
    "\n",
    "# iterate through droppable list and execute drop\n",
    "for row in drop:\n",
    "    vehicles.drop([row], axis = \"index\", inplace = True)\n",
    "\n",
    "# reset index\n",
    "vehicles.reset_index(drop = True, inplace = True)\n",
    "\n",
    "# fix values mismatching shape file (Trier & Eisenach)\n",
    "vehicles.loc[vehicles[\"municipality\"] == \"54290  TRIER,ST.\", \"district_raw\"] = \"TRIER (07235)\"\n",
    "vehicles.loc[vehicles[\"municipality\"] == \"99817  Eisenach, Stadt\", \"district_raw\"] = \"EISENACH (16056)\"\n",
    "\n",
    "# extract district id & district id\n",
    "vehicles[\"district_id\"] = vehicles[\"district_raw\"].str[-8:].str[2:7]\n",
    "vehicles[\"district\"] = vehicles[\"district_raw\"].str[:-8]\n",
    "\n",
    "# drop irrelevant columns\n",
    "vehicles.drop([\"state\",\n",
    "               \"municipality\",\n",
    "               \"district_raw\",\n",
    "               \"district\"],\n",
    "              axis = 1,\n",
    "              inplace = True)\n",
    "\n",
    "# reorder columns\n",
    "vehicles = vehicles[[\"district_id\", \"cars_total\"]]\n",
    "\n",
    "# replace \".\" & \"-\" value with 0\n",
    "vehicles.loc[vehicles[\"cars_total\"] == \".\", \"cars_total\"] = 0\n",
    "vehicles.loc[vehicles[\"cars_total\"] == \"-\", \"cars_total\"] = 0\n",
    "\n",
    "# assign correct column types\n",
    "vehicles = vehicles.astype({\"district_id\": str, \"cars_total\": int})\n",
    "\n",
    "# summarize amount of cars per district_id\n",
    "vehicles = vehicles.groupby(\"district_id\").agg({\"cars_total\": \"sum\"})\n",
    "\n",
    "# convert index to column\n",
    "vehicles[\"district_id\"] = vehicles.index\n",
    "\n",
    "# rename and reset index\n",
    "vehicles.index.names = [\"index\"]\n",
    "vehicles = vehicles.reset_index(drop = True)"
   ],
   "metadata": {
    "collapsed": false,
    "pycharm": {
     "name": "#%%\n"
    }
   }
  },
  {
   "cell_type": "markdown",
   "source": [
    "## 2.3 Mapping Data: PLZ to Administrative Region"
   ],
   "metadata": {
    "collapsed": false,
    "pycharm": {
     "name": "#%% md\n"
    }
   }
  },
  {
   "cell_type": "code",
   "execution_count": null,
   "outputs": [],
   "source": [
    "# copy raw data to working df\n",
    "mapping = mapping_raw.copy()\n",
    "\n",
    "# assign proper column names\n",
    "mapping.columns =[\"osm_id\",\"district_id\",\"city\",\"zip\",\"district\",\"state\"]\n",
    "\n",
    "# fix values mismatching shape file (Eisenach)\n",
    "mapping.loc[mapping[\"zip\"] == \"99817\", \"district_id\"] = \"16056000\"\n",
    "\n",
    "# fill district column with city name if empty\n",
    "for row in range(0, len(mapping)):\n",
    "    # check if district column is empty\n",
    "    if mapping.iloc[row][\"district_id\"] != mapping.iloc[row][\"district_id\"]:\n",
    "        # insert city name\n",
    "        mapping.iloc[row][\"district_id\"] = mapping.iloc[row][\"city\"]\n",
    "\n",
    "# drop irrelevant columns\n",
    "mapping.drop([\"osm_id\", \"city\"], axis = 1, inplace = True)\n",
    "\n",
    "# strip last 3 digits of ags code\n",
    "mapping[\"district_id\"] = mapping[\"district_id\"].str[:-3]\n",
    "\n",
    "# remove duplicates created by truncation of district_id\n",
    "mapping.drop_duplicates(inplace = True)"
   ],
   "metadata": {
    "collapsed": false,
    "pycharm": {
     "name": "#%%\n"
    }
   }
  },
  {
   "cell_type": "markdown",
   "source": [
    "# 3. Data Merge"
   ],
   "metadata": {
    "collapsed": false,
    "pycharm": {
     "name": "#%% md\n"
    }
   }
  },
  {
   "cell_type": "code",
   "execution_count": null,
   "outputs": [],
   "source": [
    "# join mapping data with stations_summary using zip\n",
    "result = pd.merge(mapping, stations_summary, on = \"zip\", how = \"left\")\n",
    "\n",
    "# summarise on district level\n",
    "result = result.groupby([\"district_id\"]).agg({\"count\": \"sum\"})\n",
    "\n",
    "# join with vehicle data using district_id\n",
    "result = pd.merge(result, vehicles, on = \"district_id\", how = \"left\")"
   ],
   "metadata": {
    "collapsed": false,
    "pycharm": {
     "name": "#%%\n"
    }
   }
  },
  {
   "cell_type": "markdown",
   "source": [
    "# 4. KPI Computation"
   ],
   "metadata": {
    "collapsed": false,
    "pycharm": {
     "name": "#%% md\n"
    }
   }
  },
  {
   "cell_type": "code",
   "execution_count": null,
   "outputs": [],
   "source": [
    "# calculate amount of stations per 1000 cars per district\n",
    "result[\"stations_per_1000_cars\"] = round(result[\"count\"]/(result[\"cars_total\"]/1000),2)"
   ],
   "metadata": {
    "collapsed": false,
    "pycharm": {
     "name": "#%%\n"
    }
   }
  },
  {
   "cell_type": "markdown",
   "source": [
    "# 5. Visualization"
   ],
   "metadata": {
    "collapsed": false,
    "pycharm": {
     "name": "#%% md\n"
    }
   }
  },
  {
   "cell_type": "markdown",
   "source": [
    "This chapter outlines the steps taken in order to visualize the KPI calculated above."
   ],
   "metadata": {
    "collapsed": false,
    "pycharm": {
     "name": "#%% md\n"
    }
   }
  },
  {
   "cell_type": "markdown",
   "source": [
    "## 5.1 Visualization Preparation"
   ],
   "metadata": {
    "collapsed": false,
    "pycharm": {
     "name": "#%% md\n"
    }
   }
  },
  {
   "cell_type": "code",
   "execution_count": null,
   "outputs": [],
   "source": [
    "# fix values mismatching vehicle & station data (Göttingen & Osterode am Harz)\n",
    "districts.loc[districts[\"cca_2\"] == \"03152\", \"cca_2\"] = \"03159\"\n",
    "districts.loc[districts[\"cca_2\"] == \"03156\", \"cca_2\"] = \"03159\"\n",
    "\n",
    "# add KPI to districts dataframe\n",
    "districts = pd.merge(districts, result, left_on = \"cca_2\", right_on = \"district_id\", how = \"left\")"
   ],
   "metadata": {
    "collapsed": false,
    "pycharm": {
     "name": "#%%\n"
    }
   }
  },
  {
   "cell_type": "markdown",
   "source": [
    "## 5.2 Visualization Creation"
   ],
   "metadata": {
    "collapsed": false,
    "pycharm": {
     "name": "#%% md\n"
    }
   }
  },
  {
   "cell_type": "code",
   "execution_count": null,
   "outputs": [],
   "source": [
    "# the following tutorials were used to create the first iterations of the visualization:\n",
    "# - https://geopandas.org/en/stable/docs/user_guide/mapping.html\n",
    "# - https://www.youtube.com/watch?v=Q0z1cPD_7yE\n",
    "# - https://www.youtube.com/watch?v=t7lliJXFt8w&t=2497s\n",
    "# - https://www.youtube.com/watch?v=L28-l516kQo&t=393s\n",
    "# - https://www.youtube.com/watch?v=5G-1k4CNChI&t=563s\n",
    "\n",
    "# define chart configuration\n",
    "fig, ax = plt.subplots(figsize = (12, 10), subplot_kw = dict(aspect = \"equal\"))\n",
    "\n",
    "# add plot\n",
    "districts.plot(column = \"stations_per_1000_cars\",\n",
    "               ax = ax,\n",
    "               # apply classification scheme\n",
    "               scheme = \"quantiles\",\n",
    "               # apply split into 10 buckets to classification\n",
    "               k = 10,\n",
    "               # select color schema\n",
    "               cmap = \"Blues\",\n",
    "               # set legend to \"on\"\n",
    "               legend = True,\n",
    "               # configure legend\n",
    "               legend_kwds = {'loc': 'center left',\n",
    "                              \"title\": \"Decile\",\n",
    "                              'bbox_to_anchor':(1, 0.5)},\n",
    "               # configure polygon border lines\n",
    "               edgecolor = \"black\",\n",
    "               linewidth = 0.25)\n",
    "\n",
    "# remove gridlines\n",
    "plt.axis('off')\n",
    "# add title\n",
    "plt.title(\"EV-Charging Stations per 1.000 Cars\\nby Administrative District\", fontdict = {\"fontsize\": 25})\n",
    "\n",
    "# add caption\n",
    "plt.figtext(0.5, 0.1, \"Data from Bundesnetzagentur (Charging Stations as of 14/11/2022) and\\nKraftfahrbundesamt (Registered Cars as of 01/01/2022) via govdata.de\", horizontalalignment = 'center', fontsize = 10)\n",
    "\n",
    "# report successful visualization\n",
    "print(\"Visualization successfully generated:\")"
   ],
   "metadata": {
    "collapsed": false,
    "pycharm": {
     "name": "#%%\n"
    }
   }
  }
 ],
 "metadata": {
  "kernelspec": {
   "display_name": "Python 3.10.4 64-bit",
   "language": "python",
   "name": "python3"
  },
  "language_info": {
   "name": "python",
   "version": "3.10.4"
  },
  "orig_nbformat": 4,
  "vscode": {
   "interpreter": {
    "hash": "9e8942728792b4f803710fcef6ec9d08fd61899a3575dab23084978499f50197"
   }
  }
 },
 "nbformat": 4,
 "nbformat_minor": 2
}