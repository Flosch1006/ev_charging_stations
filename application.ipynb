{
 "cells": [
  {
   "cell_type": "markdown",
   "metadata": {
    "pycharm": {
     "name": "#%% md\n"
    }
   },
   "source": [
    "# 1. Data Load"
   ]
  },
  {
   "cell_type": "code",
   "execution_count": 2,
   "metadata": {
    "pycharm": {
     "name": "#%%\n"
    }
   },
   "outputs": [],
   "source": [
    "# load required packages\n",
    "import pandas as pd\n",
    "import matplotlib"
   ]
  },
  {
   "cell_type": "markdown",
   "metadata": {
    "pycharm": {
     "name": "#%% md\n"
    }
   },
   "source": [
    "## 1.1 Charging Stations"
   ]
  },
  {
   "cell_type": "code",
   "execution_count": 40,
   "metadata": {
    "pycharm": {
     "name": "#%%\n"
    }
   },
   "outputs": [],
   "source": [
    "# load charging station data from opendata portal of Rhein-Kreis-Neuss found via govdata.de\n",
    "# skip bad lines\n",
    "stations_raw = pd.read_csv(\"https://opendata.rhein-kreis-neuss.de/explore/dataset/rhein-kreis-neuss-ladesaulen-in-deutschland/download/?format=csv\",\n",
    "                           on_bad_lines = \"skip\",\n",
    "                           sep = \";\",\n",
    "                           dtype = {\"betreiber\": str,\n",
    "                                    \"anzahl_ladepunkte\": int,\n",
    "                                    \"anschlussleistung\": float,\n",
    "                                    \"steckertypen1\": str,\n",
    "                                    \"steckertypen2\": str,\n",
    "                                    \"steckertypen3\": str,\n",
    "                                    \"steckertypen4\": str,\n",
    "                                    \"p1_kw\": float,\n",
    "                                    \"p2_kw\": float,\n",
    "                                    \"p3_kw\": float,\n",
    "                                    \"p4_kw\": float,\n",
    "                                    \"kreis_kreisfreie_stadt\": str,\n",
    "                                    \"ort\": str,\n",
    "                                    \"postleitzahl\": str,\n",
    "                                    \"strasse\": str,\n",
    "                                    \"hausnummer\": str,\n",
    "                                    \"adresszusatz\": str,\n",
    "                                    \"koordinaten\": str,\n",
    "                                    \"normalladeeinrichtung\": str},\n",
    "                           parse_dates = [\"inbetriebnahmedatum\"])"
   ]
  },
  {
   "cell_type": "markdown",
   "metadata": {
    "pycharm": {
     "name": "#%% md\n"
    }
   },
   "source": [
    "## 1.2 Registered Vehicles"
   ]
  },
  {
   "cell_type": "code",
   "execution_count": 7,
   "metadata": {
    "pycharm": {
     "name": "#%%\n"
    }
   },
   "outputs": [],
   "source": [
    "# load vehicle registration data from opendata portal from Kraftfahrtbundesamt\n",
    "vehicles_raw = pd.read_excel(\"https://www.kba.de/SharedDocs/Downloads/DE/Statistik/Fahrzeuge/FZ3/fz3_2022.xlsx?__blob=publicationFile&v=3\", sheet_name = \"FZ 3.1\")"
   ]
  },
  {
   "cell_type": "markdown",
   "source": [
    "## 1.3 Mapping Data: PLZ to Administrative Region"
   ],
   "metadata": {
    "collapsed": false,
    "pycharm": {
     "name": "#%% md\n"
    }
   }
  },
  {
   "cell_type": "code",
   "execution_count": 38,
   "outputs": [],
   "source": [
    "# load mapping data linking PLZ and Administrative Region\n",
    "mapping_raw = pd.read_csv(\"https://downloads.suche-postleitzahl.org/v2/public/zuordnung_plz_ort.csv\",\n",
    "                          sep = \",\",\n",
    "                          dtype = {\"osm_id\": str,\n",
    "                                   \"ags\": str,\n",
    "                                   \"ort\": str,\n",
    "                                   \"plz\": str,\n",
    "                                   \"landkreis\": str,\n",
    "                                   \"bundesland\": str})"
   ],
   "metadata": {
    "collapsed": false,
    "pycharm": {
     "name": "#%%\n"
    }
   }
  },
  {
   "cell_type": "markdown",
   "metadata": {
    "pycharm": {
     "name": "#%% md\n"
    }
   },
   "source": [
    "# 2. Data Cleaning"
   ]
  },
  {
   "cell_type": "code",
   "execution_count": 41,
   "metadata": {
    "pycharm": {
     "name": "#%%\n"
    }
   },
   "outputs": [
    {
     "data": {
      "text/plain": "owner                  object\ncount                   int64\nconnected_load        float64\nconnector_1            object\nconnector_2            object\nconnector_3            object\nconnector_4            object\np1                    float64\np2                    float64\np3                    float64\np4                    float64\ndistrict               object\nmunicipality           object\nzip                     int64\nstreet_name            object\nstreet_number          object\nadditional_address     object\ninstallation_date      object\ntype                   object\nlatitude               object\nlongitude              object\ndtype: object"
     },
     "execution_count": 41,
     "metadata": {},
     "output_type": "execute_result"
    }
   ],
   "source": []
  },
  {
   "cell_type": "markdown",
   "metadata": {
    "pycharm": {
     "name": "#%% md\n"
    }
   },
   "source": [
    "## 2.1Charging Stations"
   ]
  },
  {
   "cell_type": "code",
   "execution_count": 82,
   "metadata": {
    "pycharm": {
     "name": "#%%\n"
    }
   },
   "outputs": [],
   "source": [
    "# copy raw data to working df\n",
    "stations = stations_raw.copy()\n",
    "\n",
    "# replace column names with english names\n",
    "stations.columns = [\"owner\",\n",
    "                    \"count\",\n",
    "                    \"connected_load\",\n",
    "                    \"connector_1\",\n",
    "                    \"connector_2\",\n",
    "                    \"connector_3\",\n",
    "                    \"connector_4\",\n",
    "                    \"p1\",\n",
    "                    \"p2\",\n",
    "                    \"p3\",\n",
    "                    \"p4\",\n",
    "                    \"district\",\n",
    "                    \"municipality\",\n",
    "                    \"zip\",\n",
    "                    \"street_name\",\n",
    "                    \"street_number\",\n",
    "                    \"additional_address\",\n",
    "                    \"installation_date\",\n",
    "                    \"coordinates\",\n",
    "                    \"type\"]\n",
    "\n",
    "# split coordinates into separate columns\n",
    "stations[[\"latitude\", \"longitude\"]] = stations.coordinates.str.split(\",\", expand = True)\n",
    "\n",
    "# remove irrelevant columns\n",
    "stations = stations.drop([\"owner\", \"connected_load\", \"connector_1\", \"connector_2\", \"connector_3\", \"connector_4\", \"p1\", \"p2\", \"p3\", \"p4\", \"district\", \"additional_address\", \"coordinates\"], axis = 1)\n",
    "\n",
    "# summarise data into stations_summary\n",
    "stations_summary = stations.groupby(\"zip\").agg({\"count\": \"sum\"})"
   ]
  },
  {
   "cell_type": "markdown",
   "metadata": {
    "pycharm": {
     "name": "#%% md\n"
    }
   },
   "source": [
    "## 2.2 Registered Vehicles"
   ]
  },
  {
   "cell_type": "code",
   "execution_count": 77,
   "metadata": {
    "pycharm": {
     "name": "#%%\n"
    }
   },
   "outputs": [],
   "source": [
    "# copy raw data to working df\n",
    "vehicles = vehicles_raw.copy()\n",
    "\n",
    "# remove empty first column\n",
    "vehicles.drop(vehicles.columns[0], axis = 1, inplace = True)\n",
    "\n",
    "# drop first rows containing no usable data\n",
    "vehicles.drop(vehicles.index[0:8], axis = 0, inplace = True)\n",
    "\n",
    "# drop last rows containing no usable data\n",
    "vehicles.drop([11209, 11210, 11211, 11212, 11213, 11214, 11215 ,11216, 11217, 11218, 11219],\n",
    "              axis = \"index\",\n",
    "              inplace = True)\n",
    "\n",
    "# reset index\n",
    "vehicles.reset_index(drop = True, inplace = True)\n",
    "\n",
    "# assign proper column names\n",
    "vehicles.columns = [\"state\",\n",
    "                    \"district_raw\",\n",
    "                    \"municipality\",\n",
    "                    \"motorcycles\",\n",
    "                    \"cars_total\",\n",
    "                    \"cars_business\",\n",
    "                    \"trucks\",\n",
    "                    \"tractors_total\",\n",
    "                    \"tractors_agri_forest\",\n",
    "                    \"other_vehicles_buses\",\n",
    "                    \"vehicles_total\",\n",
    "                    \"trailers\"]\n",
    "\n",
    "# drop irrelevant columns\n",
    "vehicles.drop([\"motorcycles\",\n",
    "               \"cars_business\",\n",
    "               \"trucks\",\n",
    "               \"tractors_total\",\n",
    "               \"tractors_agri_forest\",\n",
    "               \"other_vehicles_buses\",\n",
    "               \"vehicles_total\",\n",
    "               \"trailers\" ],\n",
    "              axis = 1,\n",
    "              inplace = True)\n",
    "\n",
    "# fill NaN values\n",
    "# replace in these columns\n",
    "for column in [\"state\", \"district_raw\"]:\n",
    "    # loop through all the rows\n",
    "    for row in range(0,len(vehicles)):\n",
    "        # check if value is NaN\n",
    "        if vehicles.iloc[row][column] != vehicles.iloc[row][column]:\n",
    "            # replace with value from previous row if NaN\n",
    "            vehicles.iloc[row][column] = vehicles.iloc[row-1][column]\n",
    "\n",
    "# remove summary rows\n",
    "# create list to store row indexes to be dropped\n",
    "drop = []\n",
    "\n",
    "# search in municipality column\n",
    "column = \"municipality\"\n",
    "\n",
    "# loop through all the rows\n",
    "for row in range(0, len(vehicles)):\n",
    "    # check if row is summary row\n",
    "    if vehicles.iloc[row][column] == \"ZUSAMMEN\":\n",
    "        # append to list to be dropped later\n",
    "        drop.append(row)\n",
    "\n",
    "# search in state column\n",
    "column = \"state\"\n",
    "# loop through all the rows\n",
    "for row in range(0, len(vehicles)):\n",
    "    # check if row is summary row\n",
    "    if \"INSGESAMT\" in vehicles.iloc[row][column]:\n",
    "        # append to list to be dropped later\n",
    "        drop.append(row)\n",
    "\n",
    "# iterate through droppable list and execute drop\n",
    "for row in drop:\n",
    "    vehicles.drop([row], axis = \"index\", inplace = True)\n",
    "\n",
    "# reset index\n",
    "vehicles.reset_index(drop = True, inplace = True)\n",
    "\n",
    "# extract district id\n",
    "vehicles[\"district_id\"] = vehicles[\"district_raw\"].str[-8:].str[2:7]\n",
    "\n",
    "#extract district name\n",
    "vehicles[\"district\"] = vehicles[\"district_raw\"].str[:-8]\n",
    "\n",
    "# drop irrelevant columns\n",
    "vehicles.drop([\"state\",\n",
    "               \"municipality\",\n",
    "               \"district_raw\",\n",
    "               \"district\"],\n",
    "              axis = 1,\n",
    "              inplace = True)\n",
    "\n",
    "# reorder columns\n",
    "vehicles = vehicles[[\"district_id\", \"cars_total\"]]\n",
    "\n",
    "# replace \".\" & \"-\" value with 0\n",
    "vehicles.loc[vehicles[\"cars_total\"] == \".\", \"cars_total\"] = 0\n",
    "vehicles.loc[vehicles[\"cars_total\"] == \"-\", \"cars_total\"] = 0\n",
    "\n",
    "# assign correct column types\n",
    "vehicles = vehicles.astype({\"district_id\": str, \"cars_total\": int})\n",
    "\n",
    "# summarize amount of cars per district_id\n",
    "vehicles = vehicles.groupby(\"district_id\").agg({\"cars_total\": \"sum\"})"
   ]
  },
  {
   "cell_type": "markdown",
   "source": [
    "## 2.3 Mapping Data: PLZ to Administrative Region"
   ],
   "metadata": {
    "collapsed": false,
    "pycharm": {
     "name": "#%% md\n"
    }
   }
  },
  {
   "cell_type": "code",
   "execution_count": 80,
   "outputs": [
    {
     "data": {
      "text/plain": "       count    municipality    zip                 street_name street_number  \\\n0          2    Gößweinstein  91327  Viktor-von-Scheffel Straße             3   \n1          2      Gräfenberg  91322             Bayreuther Str.            38   \n2          2     Hallerndorf  91352         Von-Seckendorf-Str.            10   \n3          2     Heroldsbach  91336                 Hauptstraße             9   \n4          2     Heroldsbach  91336          Untere Hauptstraße             2   \n...      ...             ...    ...                         ...           ...   \n29728      2  Wutha-Farnroda  99848              Ruhlaer Straße            41   \n29729      2          Apolda  99510        Parkplatz am Schloss             0   \n29730      1          Apolda  99510           Adolf-Aber-Straße             0   \n29731      2       Bad Berka  99438            Weimarische Str.             1   \n29732      2         Magdala  99441             Auf der Schanze             2   \n\n      installation_date                    type   latitude  longitude  \n0            2018-10-08   Normalladeeinrichtung   49.76918   11.33907  \n1            2021-11-10   Normalladeeinrichtung  49.645468  11.255904  \n2            2019-01-29   Normalladeeinrichtung  49.761162  10.981606  \n3            2016-12-16   Normalladeeinrichtung  49.692019   11.00026  \n4            2021-05-01   Normalladeeinrichtung  49.690454  11.004974  \n...                 ...                     ...        ...        ...  \n29728        2018-05-01   Normalladeeinrichtung  50.951957  10.394761  \n29729        2018-06-18   Normalladeeinrichtung  51.021253  11.513847  \n29730        2018-10-19  Schnellladeeinrichtung  51.020983   11.51048  \n29731        2018-04-20   Normalladeeinrichtung   50.90074    11.2826  \n29732        2022-02-02  Schnellladeeinrichtung  50.900753  11.446024  \n\n[29733 rows x 9 columns]",
      "text/html": "<div>\n<style scoped>\n    .dataframe tbody tr th:only-of-type {\n        vertical-align: middle;\n    }\n\n    .dataframe tbody tr th {\n        vertical-align: top;\n    }\n\n    .dataframe thead th {\n        text-align: right;\n    }\n</style>\n<table border=\"1\" class=\"dataframe\">\n  <thead>\n    <tr style=\"text-align: right;\">\n      <th></th>\n      <th>count</th>\n      <th>municipality</th>\n      <th>zip</th>\n      <th>street_name</th>\n      <th>street_number</th>\n      <th>installation_date</th>\n      <th>type</th>\n      <th>latitude</th>\n      <th>longitude</th>\n    </tr>\n  </thead>\n  <tbody>\n    <tr>\n      <th>0</th>\n      <td>2</td>\n      <td>Gößweinstein</td>\n      <td>91327</td>\n      <td>Viktor-von-Scheffel Straße</td>\n      <td>3</td>\n      <td>2018-10-08</td>\n      <td>Normalladeeinrichtung</td>\n      <td>49.76918</td>\n      <td>11.33907</td>\n    </tr>\n    <tr>\n      <th>1</th>\n      <td>2</td>\n      <td>Gräfenberg</td>\n      <td>91322</td>\n      <td>Bayreuther Str.</td>\n      <td>38</td>\n      <td>2021-11-10</td>\n      <td>Normalladeeinrichtung</td>\n      <td>49.645468</td>\n      <td>11.255904</td>\n    </tr>\n    <tr>\n      <th>2</th>\n      <td>2</td>\n      <td>Hallerndorf</td>\n      <td>91352</td>\n      <td>Von-Seckendorf-Str.</td>\n      <td>10</td>\n      <td>2019-01-29</td>\n      <td>Normalladeeinrichtung</td>\n      <td>49.761162</td>\n      <td>10.981606</td>\n    </tr>\n    <tr>\n      <th>3</th>\n      <td>2</td>\n      <td>Heroldsbach</td>\n      <td>91336</td>\n      <td>Hauptstraße</td>\n      <td>9</td>\n      <td>2016-12-16</td>\n      <td>Normalladeeinrichtung</td>\n      <td>49.692019</td>\n      <td>11.00026</td>\n    </tr>\n    <tr>\n      <th>4</th>\n      <td>2</td>\n      <td>Heroldsbach</td>\n      <td>91336</td>\n      <td>Untere Hauptstraße</td>\n      <td>2</td>\n      <td>2021-05-01</td>\n      <td>Normalladeeinrichtung</td>\n      <td>49.690454</td>\n      <td>11.004974</td>\n    </tr>\n    <tr>\n      <th>...</th>\n      <td>...</td>\n      <td>...</td>\n      <td>...</td>\n      <td>...</td>\n      <td>...</td>\n      <td>...</td>\n      <td>...</td>\n      <td>...</td>\n      <td>...</td>\n    </tr>\n    <tr>\n      <th>29728</th>\n      <td>2</td>\n      <td>Wutha-Farnroda</td>\n      <td>99848</td>\n      <td>Ruhlaer Straße</td>\n      <td>41</td>\n      <td>2018-05-01</td>\n      <td>Normalladeeinrichtung</td>\n      <td>50.951957</td>\n      <td>10.394761</td>\n    </tr>\n    <tr>\n      <th>29729</th>\n      <td>2</td>\n      <td>Apolda</td>\n      <td>99510</td>\n      <td>Parkplatz am Schloss</td>\n      <td>0</td>\n      <td>2018-06-18</td>\n      <td>Normalladeeinrichtung</td>\n      <td>51.021253</td>\n      <td>11.513847</td>\n    </tr>\n    <tr>\n      <th>29730</th>\n      <td>1</td>\n      <td>Apolda</td>\n      <td>99510</td>\n      <td>Adolf-Aber-Straße</td>\n      <td>0</td>\n      <td>2018-10-19</td>\n      <td>Schnellladeeinrichtung</td>\n      <td>51.020983</td>\n      <td>11.51048</td>\n    </tr>\n    <tr>\n      <th>29731</th>\n      <td>2</td>\n      <td>Bad Berka</td>\n      <td>99438</td>\n      <td>Weimarische Str.</td>\n      <td>1</td>\n      <td>2018-04-20</td>\n      <td>Normalladeeinrichtung</td>\n      <td>50.90074</td>\n      <td>11.2826</td>\n    </tr>\n    <tr>\n      <th>29732</th>\n      <td>2</td>\n      <td>Magdala</td>\n      <td>99441</td>\n      <td>Auf der Schanze</td>\n      <td>2</td>\n      <td>2022-02-02</td>\n      <td>Schnellladeeinrichtung</td>\n      <td>50.900753</td>\n      <td>11.446024</td>\n    </tr>\n  </tbody>\n</table>\n<p>29733 rows × 9 columns</p>\n</div>"
     },
     "execution_count": 80,
     "metadata": {},
     "output_type": "execute_result"
    }
   ],
   "source": [
    "# copy raw data to working df\n",
    "mapping = mapping_raw.copy()\n",
    "\n",
    "# assign proper column names\n",
    "mapping.columns =[\"osm_id\",\"district_id\",\"city\",\"zip\",\"district\",\"state\"]\n",
    "\n",
    "# fill district column with city name if empty\n",
    "for row in range(0, len(mapping)):\n",
    "    # check if district column is empty\n",
    "    if mapping.iloc[row][\"district_id\"] != mapping.iloc[row][\"district_id\"]:\n",
    "        # insert city name\n",
    "        mapping.iloc[row][\"district_id\"] = mapping.iloc[row][\"city\"]\n",
    "\n",
    "# drop irrelevant columns\n",
    "mapping.drop([\"osm_id\", \"city\"], axis = 1, inplace = True)\n",
    "\n",
    "# strip last 3 digits of ags code\n",
    "mapping[\"district_id\"] = mapping[\"district_id\"].str[:-3]"
   ],
   "metadata": {
    "collapsed": false,
    "pycharm": {
     "name": "#%%\n"
    }
   }
  },
  {
   "cell_type": "markdown",
   "metadata": {
    "pycharm": {
     "name": "#%% md\n"
    }
   },
   "source": [
    "# 3. Data Merge"
   ]
  },
  {
   "cell_type": "code",
   "execution_count": null,
   "metadata": {
    "pycharm": {
     "name": "#%%\n",
     "is_executing": true
    }
   },
   "outputs": [],
   "source": []
  },
  {
   "cell_type": "markdown",
   "metadata": {
    "pycharm": {
     "name": "#%% md\n"
    }
   },
   "source": [
    "# 4. KPI Computation"
   ]
  },
  {
   "cell_type": "code",
   "execution_count": null,
   "metadata": {
    "pycharm": {
     "is_executing": true,
     "name": "#%%\n"
    }
   },
   "outputs": [],
   "source": []
  },
  {
   "cell_type": "markdown",
   "metadata": {
    "pycharm": {
     "name": "#%% md\n"
    }
   },
   "source": [
    "# 5. Visualization"
   ]
  },
  {
   "cell_type": "code",
   "execution_count": null,
   "metadata": {
    "pycharm": {
     "is_executing": true,
     "name": "#%%\n"
    }
   },
   "outputs": [],
   "source": []
  },
  {
   "cell_type": "markdown",
   "metadata": {
    "pycharm": {
     "name": "#%% md\n"
    }
   },
   "source": [
    "## 5.1 Visualization Preparation"
   ]
  },
  {
   "cell_type": "code",
   "execution_count": null,
   "metadata": {
    "pycharm": {
     "is_executing": true,
     "name": "#%%\n"
    }
   },
   "outputs": [],
   "source": []
  },
  {
   "cell_type": "markdown",
   "metadata": {
    "pycharm": {
     "name": "#%% md\n"
    }
   },
   "source": [
    "## 5.2 Visualization Creation"
   ]
  },
  {
   "cell_type": "code",
   "execution_count": null,
   "metadata": {
    "pycharm": {
     "is_executing": true,
     "name": "#%%\n"
    }
   },
   "outputs": [],
   "source": []
  }
 ],
 "metadata": {
  "kernelspec": {
   "display_name": "Python 3.10.4 64-bit",
   "language": "python",
   "name": "python3"
  },
  "language_info": {
   "name": "python",
   "version": "3.10.4"
  },
  "orig_nbformat": 4,
  "vscode": {
   "interpreter": {
    "hash": "9e8942728792b4f803710fcef6ec9d08fd61899a3575dab23084978499f50197"
   }
  }
 },
 "nbformat": 4,
 "nbformat_minor": 2
}